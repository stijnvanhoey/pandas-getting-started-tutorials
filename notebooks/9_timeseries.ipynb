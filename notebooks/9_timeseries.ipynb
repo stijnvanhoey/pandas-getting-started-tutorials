{
 "cells": [
  {
   "cell_type": "markdown",
   "metadata": {},
   "source": [
    "Objectives\n",
    "\n",
    "- Convert  object column to datetime datatype\n",
    "- Set a column as a DateTimeIndex\n",
    "- Check the datatype of the index for datetimeindex\n",
    "- Explore the namespace provided by datetimeindex (i.e. .month, .weekday,...)\n",
    "- Aggregate to another time resolution (i.e. resample)\n",
    "\n",
    "Content to cover\n",
    "\n",
    "- to_datetime\n",
    "- set_index of a column\n",
    "- resample\n"
   ]
  },
  {
   "cell_type": "code",
   "execution_count": 3,
   "metadata": {},
   "outputs": [],
   "source": [
    "import pandas as pd\n",
    "import numpy as np\n",
    "import matplotlib.pyplot as plt\n",
    "%matplotlib inline"
   ]
  },
  {
   "cell_type": "markdown",
   "metadata": {},
   "source": [
    "Air quality data about $NO_2$ and particulate matter less than 2.5 micrometers is used, made available by [openaq](https://openaq.org) and using the [py-openaq](http://dhhagan.github.io/py-openaq/index.html) package:\n",
    "\n",
    "- The `air_quality_no2_long.csv\"` data set provides $NO_2$ values for the measurement stations _FR04014_, _BETR801_ and _London Westminster_ in respectively Paris, Antwerp and London. "
   ]
  },
  {
   "cell_type": "code",
   "execution_count": 83,
   "metadata": {},
   "outputs": [
    {
     "data": {
      "text/html": [
       "<div>\n",
       "<style scoped>\n",
       "    .dataframe tbody tr th:only-of-type {\n",
       "        vertical-align: middle;\n",
       "    }\n",
       "\n",
       "    .dataframe tbody tr th {\n",
       "        vertical-align: top;\n",
       "    }\n",
       "\n",
       "    .dataframe thead th {\n",
       "        text-align: right;\n",
       "    }\n",
       "</style>\n",
       "<table border=\"1\" class=\"dataframe\">\n",
       "  <thead>\n",
       "    <tr style=\"text-align: right;\">\n",
       "      <th></th>\n",
       "      <th>city</th>\n",
       "      <th>country</th>\n",
       "      <th>datetime</th>\n",
       "      <th>location</th>\n",
       "      <th>parameter</th>\n",
       "      <th>value</th>\n",
       "      <th>unit</th>\n",
       "    </tr>\n",
       "  </thead>\n",
       "  <tbody>\n",
       "    <tr>\n",
       "      <td>0</td>\n",
       "      <td>Paris</td>\n",
       "      <td>FR</td>\n",
       "      <td>2019-06-21 00:00:00+00:00</td>\n",
       "      <td>FR04014</td>\n",
       "      <td>no2</td>\n",
       "      <td>20.0</td>\n",
       "      <td>µg/m³</td>\n",
       "    </tr>\n",
       "    <tr>\n",
       "      <td>1</td>\n",
       "      <td>Paris</td>\n",
       "      <td>FR</td>\n",
       "      <td>2019-06-20 23:00:00+00:00</td>\n",
       "      <td>FR04014</td>\n",
       "      <td>no2</td>\n",
       "      <td>21.8</td>\n",
       "      <td>µg/m³</td>\n",
       "    </tr>\n",
       "    <tr>\n",
       "      <td>2</td>\n",
       "      <td>Paris</td>\n",
       "      <td>FR</td>\n",
       "      <td>2019-06-20 22:00:00+00:00</td>\n",
       "      <td>FR04014</td>\n",
       "      <td>no2</td>\n",
       "      <td>26.5</td>\n",
       "      <td>µg/m³</td>\n",
       "    </tr>\n",
       "    <tr>\n",
       "      <td>3</td>\n",
       "      <td>Paris</td>\n",
       "      <td>FR</td>\n",
       "      <td>2019-06-20 21:00:00+00:00</td>\n",
       "      <td>FR04014</td>\n",
       "      <td>no2</td>\n",
       "      <td>24.9</td>\n",
       "      <td>µg/m³</td>\n",
       "    </tr>\n",
       "    <tr>\n",
       "      <td>4</td>\n",
       "      <td>Paris</td>\n",
       "      <td>FR</td>\n",
       "      <td>2019-06-20 20:00:00+00:00</td>\n",
       "      <td>FR04014</td>\n",
       "      <td>no2</td>\n",
       "      <td>21.4</td>\n",
       "      <td>µg/m³</td>\n",
       "    </tr>\n",
       "  </tbody>\n",
       "</table>\n",
       "</div>"
      ],
      "text/plain": [
       "    city country                   datetime location parameter  value   unit\n",
       "0  Paris      FR  2019-06-21 00:00:00+00:00  FR04014       no2   20.0  µg/m³\n",
       "1  Paris      FR  2019-06-20 23:00:00+00:00  FR04014       no2   21.8  µg/m³\n",
       "2  Paris      FR  2019-06-20 22:00:00+00:00  FR04014       no2   26.5  µg/m³\n",
       "3  Paris      FR  2019-06-20 21:00:00+00:00  FR04014       no2   24.9  µg/m³\n",
       "4  Paris      FR  2019-06-20 20:00:00+00:00  FR04014       no2   21.4  µg/m³"
      ]
     },
     "execution_count": 83,
     "metadata": {},
     "output_type": "execute_result"
    }
   ],
   "source": [
    "air_quality = pd.read_csv(\"../data/air_quality_no2_long.csv\")\n",
    "air_quality = air_quality.rename(columns={\"date.utc\": \"datetime\"})\n",
    "air_quality.head()"
   ]
  },
  {
   "cell_type": "code",
   "execution_count": 84,
   "metadata": {},
   "outputs": [
    {
     "data": {
      "text/plain": [
       "array(['Paris', 'Antwerpen', 'London'], dtype=object)"
      ]
     },
     "execution_count": 84,
     "metadata": {},
     "output_type": "execute_result"
    }
   ],
   "source": [
    "air_quality.city.unique()"
   ]
  },
  {
   "cell_type": "markdown",
   "metadata": {},
   "source": [
    "## Handle time series with ease"
   ]
  },
  {
   "cell_type": "markdown",
   "metadata": {},
   "source": [
    "### Using Pandas datetime properties"
   ]
  },
  {
   "cell_type": "markdown",
   "metadata": {},
   "source": [
    "> I want to work with the dates in the column 'date.utc' as datetime objects instead of plain text"
   ]
  },
  {
   "cell_type": "code",
   "execution_count": 85,
   "metadata": {},
   "outputs": [
    {
     "data": {
      "text/plain": [
       "0      2019-06-21 00:00:00+00:00\n",
       "1      2019-06-20 23:00:00+00:00\n",
       "2      2019-06-20 22:00:00+00:00\n",
       "3      2019-06-20 21:00:00+00:00\n",
       "4      2019-06-20 20:00:00+00:00\n",
       "                  ...           \n",
       "2063   2019-05-07 06:00:00+00:00\n",
       "2064   2019-05-07 04:00:00+00:00\n",
       "2065   2019-05-07 03:00:00+00:00\n",
       "2066   2019-05-07 02:00:00+00:00\n",
       "2067   2019-05-07 01:00:00+00:00\n",
       "Name: datetime, Length: 2068, dtype: datetime64[ns, UTC]"
      ]
     },
     "execution_count": 85,
     "metadata": {},
     "output_type": "execute_result"
    }
   ],
   "source": [
    "air_quality[\"datetime\"] = pd.to_datetime(air_quality[\"datetime\"])\n",
    "air_quality[\"datetime\"]"
   ]
  },
  {
   "cell_type": "markdown",
   "metadata": {},
   "source": [
    "Initially, the values in `datetime` are character strings and do not provide any datetime operations (e.g. extract the year, day of the week,...). By applying the `to_datetime` function, pandas interprets the strings and convert these to datetime (i.e. `datetime64[ns, UTC]`) objects. In pandas we call these datetime objects similar to `datetime.datetime` from the standard library a `Timestamp`."
   ]
  },
  {
   "cell_type": "markdown",
   "metadata": {},
   "source": [
    "<div class=\"alert alert-info\">\n",
    "    \n",
    "__Note__: As many data sets do contain datetime information in one of the columns, Pandas input function like `read_csv` and `read_json` can do the transformation to dates when reading the data using the `parse_dates` parameter with a list of the columns to read as Timestamp:\n",
    "\n",
    "    pd.read_csv(\"../data/air_quality_no2_long.csv\", parse_dates=[\"date.utc\"])\n",
    "\n",
    "</div>"
   ]
  },
  {
   "cell_type": "markdown",
   "metadata": {},
   "source": [
    "Why are these `Timestamp` objects useful. Let's illustrate the added value with some example cases."
   ]
  },
  {
   "cell_type": "markdown",
   "metadata": {},
   "source": [
    "> What is the start and end date of the time series data set working with?"
   ]
  },
  {
   "cell_type": "code",
   "execution_count": 86,
   "metadata": {},
   "outputs": [
    {
     "data": {
      "text/plain": [
       "(Timestamp('2019-05-07 01:00:00+0000', tz='UTC'),\n",
       " Timestamp('2019-06-21 00:00:00+0000', tz='UTC'))"
      ]
     },
     "execution_count": 86,
     "metadata": {},
     "output_type": "execute_result"
    }
   ],
   "source": [
    "air_quality[\"datetime\"].min(), air_quality[\"datetime\"].max()"
   ]
  },
  {
   "cell_type": "markdown",
   "metadata": {},
   "source": [
    "Using `Timestamp` for datetimes enable us to calculate with date information and make them comparable. Hence, we can use this to get the length of our time series:"
   ]
  },
  {
   "cell_type": "code",
   "execution_count": 87,
   "metadata": {},
   "outputs": [
    {
     "data": {
      "text/plain": [
       "Timedelta('44 days 23:00:00')"
      ]
     },
     "execution_count": 87,
     "metadata": {},
     "output_type": "execute_result"
    }
   ],
   "source": [
    "air_quality[\"datetime\"].max() - air_quality[\"datetime\"].min()"
   ]
  },
  {
   "cell_type": "markdown",
   "metadata": {},
   "source": [
    "The result is a `Timedelta` object, similar to `datetime.timedelta` from the standard Python library and defining a time duration."
   ]
  },
  {
   "cell_type": "markdown",
   "metadata": {},
   "source": [
    "__To user guide:__ The main time related concepts of Pandas are explained in :ref:`timeseries.overview`."
   ]
  },
  {
   "cell_type": "markdown",
   "metadata": {},
   "source": [
    "> I want to add a new column to the dataframe containing only the month of the measurement"
   ]
  },
  {
   "cell_type": "code",
   "execution_count": 88,
   "metadata": {},
   "outputs": [
    {
     "data": {
      "text/html": [
       "<div>\n",
       "<style scoped>\n",
       "    .dataframe tbody tr th:only-of-type {\n",
       "        vertical-align: middle;\n",
       "    }\n",
       "\n",
       "    .dataframe tbody tr th {\n",
       "        vertical-align: top;\n",
       "    }\n",
       "\n",
       "    .dataframe thead th {\n",
       "        text-align: right;\n",
       "    }\n",
       "</style>\n",
       "<table border=\"1\" class=\"dataframe\">\n",
       "  <thead>\n",
       "    <tr style=\"text-align: right;\">\n",
       "      <th></th>\n",
       "      <th>city</th>\n",
       "      <th>country</th>\n",
       "      <th>datetime</th>\n",
       "      <th>location</th>\n",
       "      <th>parameter</th>\n",
       "      <th>value</th>\n",
       "      <th>unit</th>\n",
       "      <th>month</th>\n",
       "    </tr>\n",
       "  </thead>\n",
       "  <tbody>\n",
       "    <tr>\n",
       "      <td>0</td>\n",
       "      <td>Paris</td>\n",
       "      <td>FR</td>\n",
       "      <td>2019-06-21 00:00:00+00:00</td>\n",
       "      <td>FR04014</td>\n",
       "      <td>no2</td>\n",
       "      <td>20.0</td>\n",
       "      <td>µg/m³</td>\n",
       "      <td>6</td>\n",
       "    </tr>\n",
       "    <tr>\n",
       "      <td>1</td>\n",
       "      <td>Paris</td>\n",
       "      <td>FR</td>\n",
       "      <td>2019-06-20 23:00:00+00:00</td>\n",
       "      <td>FR04014</td>\n",
       "      <td>no2</td>\n",
       "      <td>21.8</td>\n",
       "      <td>µg/m³</td>\n",
       "      <td>6</td>\n",
       "    </tr>\n",
       "    <tr>\n",
       "      <td>2</td>\n",
       "      <td>Paris</td>\n",
       "      <td>FR</td>\n",
       "      <td>2019-06-20 22:00:00+00:00</td>\n",
       "      <td>FR04014</td>\n",
       "      <td>no2</td>\n",
       "      <td>26.5</td>\n",
       "      <td>µg/m³</td>\n",
       "      <td>6</td>\n",
       "    </tr>\n",
       "    <tr>\n",
       "      <td>3</td>\n",
       "      <td>Paris</td>\n",
       "      <td>FR</td>\n",
       "      <td>2019-06-20 21:00:00+00:00</td>\n",
       "      <td>FR04014</td>\n",
       "      <td>no2</td>\n",
       "      <td>24.9</td>\n",
       "      <td>µg/m³</td>\n",
       "      <td>6</td>\n",
       "    </tr>\n",
       "    <tr>\n",
       "      <td>4</td>\n",
       "      <td>Paris</td>\n",
       "      <td>FR</td>\n",
       "      <td>2019-06-20 20:00:00+00:00</td>\n",
       "      <td>FR04014</td>\n",
       "      <td>no2</td>\n",
       "      <td>21.4</td>\n",
       "      <td>µg/m³</td>\n",
       "      <td>6</td>\n",
       "    </tr>\n",
       "  </tbody>\n",
       "</table>\n",
       "</div>"
      ],
      "text/plain": [
       "    city country                  datetime location parameter  value   unit  \\\n",
       "0  Paris      FR 2019-06-21 00:00:00+00:00  FR04014       no2   20.0  µg/m³   \n",
       "1  Paris      FR 2019-06-20 23:00:00+00:00  FR04014       no2   21.8  µg/m³   \n",
       "2  Paris      FR 2019-06-20 22:00:00+00:00  FR04014       no2   26.5  µg/m³   \n",
       "3  Paris      FR 2019-06-20 21:00:00+00:00  FR04014       no2   24.9  µg/m³   \n",
       "4  Paris      FR 2019-06-20 20:00:00+00:00  FR04014       no2   21.4  µg/m³   \n",
       "\n",
       "   month  \n",
       "0      6  \n",
       "1      6  \n",
       "2      6  \n",
       "3      6  \n",
       "4      6  "
      ]
     },
     "execution_count": 88,
     "metadata": {},
     "output_type": "execute_result"
    }
   ],
   "source": [
    "air_quality[\"month\"] = air_quality[\"datetime\"].dt.month\n",
    "air_quality.head()"
   ]
  },
  {
   "cell_type": "markdown",
   "metadata": {},
   "source": [
    "By using `Timestamp` objects for dates, a lot of time-related properties are provided by Pandas. For example the `month`, but also `year`, `weekofyear`, `quarter`,... All of these properties are accessible by the `dt` accessor."
   ]
  },
  {
   "cell_type": "markdown",
   "metadata": {},
   "source": [
    "__To user guide:__ An overview of the existing properties is given in :ref:`timeseries.components`. More details about the `dt` accessor to return datetime like properties for the values of the Series are provided in :ref:`basics.dt_accessors`"
   ]
  },
  {
   "cell_type": "markdown",
   "metadata": {},
   "source": [
    "> What is the average $NO_2$ concentration for each day of the week for each of the measurement locations?"
   ]
  },
  {
   "cell_type": "code",
   "execution_count": 112,
   "metadata": {},
   "outputs": [
    {
     "data": {
      "text/plain": [
       "datetime  location          \n",
       "0         BETR801               27.875000\n",
       "          FR04014               24.856250\n",
       "          London Westminster    23.969697\n",
       "1         BETR801               22.214286\n",
       "          FR04014               30.999359\n",
       "          London Westminster    24.885714\n",
       "2         BETR801               21.125000\n",
       "          FR04014               29.165753\n",
       "          London Westminster    23.460432\n",
       "3         BETR801               27.500000\n",
       "          FR04014               28.600690\n",
       "          London Westminster    24.780142\n",
       "4         BETR801               28.400000\n",
       "          FR04014               31.617986\n",
       "          London Westminster    26.446809\n",
       "5         BETR801               33.500000\n",
       "          FR04014               25.266154\n",
       "          London Westminster    24.977612\n",
       "6         BETR801               21.896552\n",
       "          FR04014               23.274306\n",
       "          London Westminster    24.859155\n",
       "Name: value, dtype: float64"
      ]
     },
     "execution_count": 112,
     "metadata": {},
     "output_type": "execute_result"
    }
   ],
   "source": [
    "air_quality.groupby([air_quality[\"datetime\"].dt.weekday, \"location\"])[\"value\"].mean()"
   ]
  },
  {
   "cell_type": "markdown",
   "metadata": {},
   "source": [
    "Remember the split-apply-combine pattern provided by `groupby` from [tutorial on statistics calculation](6_calculate_statistics.ipynb)? Here, we want to calculate a given statistic (e.g. mean $NO_2$) __for each weekday__ and __for each measurement location__. To group on weekdays, we use the datetime property `weekday` (with Monday=0 and Sunday=6) of Pandas `Timestamp`, which is also accessible by the `dt` accessor. The grouping on both locations and weekdays can be done to split the calculation of the mean on each of these combinations."
   ]
  },
  {
   "cell_type": "markdown",
   "metadata": {},
   "source": [
    "<div class=\"alert alert-warning\">\n",
    "    \n",
    "__Note__: As we are working with a very short time series in these examples, the analysis does not provide a long-term representative result!\n",
    "\n",
    "</div>"
   ]
  },
  {
   "cell_type": "markdown",
   "metadata": {},
   "source": [
    "> Plot the typical $NO_2$ pattern during the day of our time series of all statiosn together. In other words, what is the average value for each hour of the day?"
   ]
  },
  {
   "cell_type": "code",
   "execution_count": 98,
   "metadata": {},
   "outputs": [
    {
     "data": {
      "image/png": "[encoded data removed]",
      "text/plain": [
       "<Figure size 432x288 with 1 Axes>"
      ]
     },
     "metadata": {
      "needs_background": "light"
     },
     "output_type": "display_data"
    }
   ],
   "source": [
    "air_quality.groupby(air_quality[\"datetime\"].dt.hour)[\"value\"].mean().plot(kind='bar', rot=0)\n",
    "plt.xlabel(\"Hour of the day\"); # xustom label for the x-axis using matplotlib\n",
    "plt.ylabel(\"$NO_2\\ (µg/m^3)$\");"
   ]
  },
  {
   "cell_type": "markdown",
   "metadata": {},
   "source": [
    "Similar to the previous case, we want to calculate a given statistic (e.g. mean $NO_2$) __for each hour of the day__ and we can use the split-apply-combine approach again."
   ]
  },
  {
   "cell_type": "markdown",
   "metadata": {},
   "source": [
    "### Datetime as index"
   ]
  },
  {
   "cell_type": "markdown",
   "metadata": {},
   "source": [
    "In the [notebook on reshaping](7_reshape_table_layout.ipynb), `pivot` was introduced to reshape the data table with each of the measurements locations as a separate column:"
   ]
  },
  {
   "cell_type": "code",
   "execution_count": 130,
   "metadata": {},
   "outputs": [
    {
     "data": {
      "text/html": [
       "<div>\n",
       "<style scoped>\n",
       "    .dataframe tbody tr th:only-of-type {\n",
       "        vertical-align: middle;\n",
       "    }\n",
       "\n",
       "    .dataframe tbody tr th {\n",
       "        vertical-align: top;\n",
       "    }\n",
       "\n",
       "    .dataframe thead th {\n",
       "        text-align: right;\n",
       "    }\n",
       "</style>\n",
       "<table border=\"1\" class=\"dataframe\">\n",
       "  <thead>\n",
       "    <tr style=\"text-align: right;\">\n",
       "      <th>location</th>\n",
       "      <th>BETR801</th>\n",
       "      <th>FR04014</th>\n",
       "      <th>London Westminster</th>\n",
       "    </tr>\n",
       "    <tr>\n",
       "      <th>datetime</th>\n",
       "      <th></th>\n",
       "      <th></th>\n",
       "      <th></th>\n",
       "    </tr>\n",
       "  </thead>\n",
       "  <tbody>\n",
       "    <tr>\n",
       "      <td>2019-05-07 01:00:00+00:00</td>\n",
       "      <td>50.5</td>\n",
       "      <td>25.0</td>\n",
       "      <td>23.0</td>\n",
       "    </tr>\n",
       "    <tr>\n",
       "      <td>2019-05-07 02:00:00+00:00</td>\n",
       "      <td>45.0</td>\n",
       "      <td>27.7</td>\n",
       "      <td>19.0</td>\n",
       "    </tr>\n",
       "    <tr>\n",
       "      <td>2019-05-07 03:00:00+00:00</td>\n",
       "      <td>NaN</td>\n",
       "      <td>50.4</td>\n",
       "      <td>19.0</td>\n",
       "    </tr>\n",
       "    <tr>\n",
       "      <td>2019-05-07 04:00:00+00:00</td>\n",
       "      <td>NaN</td>\n",
       "      <td>61.9</td>\n",
       "      <td>16.0</td>\n",
       "    </tr>\n",
       "    <tr>\n",
       "      <td>2019-05-07 05:00:00+00:00</td>\n",
       "      <td>NaN</td>\n",
       "      <td>72.4</td>\n",
       "      <td>NaN</td>\n",
       "    </tr>\n",
       "  </tbody>\n",
       "</table>\n",
       "</div>"
      ],
      "text/plain": [
       "location                   BETR801  FR04014  London Westminster\n",
       "datetime                                                       \n",
       "2019-05-07 01:00:00+00:00     50.5     25.0                23.0\n",
       "2019-05-07 02:00:00+00:00     45.0     27.7                19.0\n",
       "2019-05-07 03:00:00+00:00      NaN     50.4                19.0\n",
       "2019-05-07 04:00:00+00:00      NaN     61.9                16.0\n",
       "2019-05-07 05:00:00+00:00      NaN     72.4                 NaN"
      ]
     },
     "execution_count": 130,
     "metadata": {},
     "output_type": "execute_result"
    }
   ],
   "source": [
    "no_2 = air_quality.pivot(index=\"datetime\", columns=\"location\", values=\"value\")\n",
    "no_2.head()"
   ]
  },
  {
   "cell_type": "markdown",
   "metadata": {},
   "source": [
    "<div class=\"alert alert-info\">\n",
    "    \n",
    "__Note__: By pivoting the data, the datetime information became the index of the table. In general, setting a column as an index can be achieved by the `set_index` function. \n",
    "\n",
    "</div>"
   ]
  },
  {
   "cell_type": "markdown",
   "metadata": {},
   "source": [
    "Working with a datetime index (i.e. `DatetimeIndex`) provides powerfull functionalities. For example, we do not need the `dt` accessor to get the time series properties, but have these properties available on the index directly:"
   ]
  },
  {
   "cell_type": "code",
   "execution_count": 135,
   "metadata": {},
   "outputs": [
    {
     "data": {
      "text/plain": [
       "(Int64Index([2019, 2019, 2019, 2019, 2019, 2019, 2019, 2019, 2019, 2019,\n",
       "             ...\n",
       "             2019, 2019, 2019, 2019, 2019, 2019, 2019, 2019, 2019, 2019],\n",
       "            dtype='int64', name='datetime', length=1033),\n",
       " Int64Index([1, 1, 1, 1, 1, 1, 1, 1, 1, 1,\n",
       "             ...\n",
       "             3, 3, 3, 3, 3, 3, 3, 3, 3, 4],\n",
       "            dtype='int64', name='datetime', length=1033))"
      ]
     },
     "execution_count": 135,
     "metadata": {},
     "output_type": "execute_result"
    }
   ],
   "source": [
    "no_2.index.year, no_2.index.weekday"
   ]
  },
  {
   "cell_type": "markdown",
   "metadata": {},
   "source": [
    "Some other advantages are the convenient subsetting of time period or the adapted time scale on plots. Let's apply this on our data."
   ]
  },
  {
   "cell_type": "markdown",
   "metadata": {},
   "source": [
    "> Create a plot of the $NO_2$ values in the different stations from the 20th of May till the end of 21st of May"
   ]
  },
  {
   "cell_type": "code",
   "execution_count": 143,
   "metadata": {},
   "outputs": [
    {
     "data": {
      "text/plain": [
       "<matplotlib.axes._subplots.AxesSubplot at 0x7fd89c58ec18>"
      ]
     },
     "execution_count": 143,
     "metadata": {},
     "output_type": "execute_result"
    },
    {
     "data": {
      "image/png": "[encoded data removed]",
      "text/plain": [
       "<Figure size 432x288 with 1 Axes>"
      ]
     },
     "metadata": {
      "needs_background": "light"
     },
     "output_type": "display_data"
    }
   ],
   "source": [
    "no_2[\"2019-05-20\" : \"2019-05-21\"].plot()"
   ]
  },
  {
   "cell_type": "markdown",
   "metadata": {},
   "source": [
    "By providing a __string that parses to a datetime__, a specific subset of the data can be selected on a `DatetimeIndex`."
   ]
  },
  {
   "cell_type": "markdown",
   "metadata": {},
   "source": [
    "__To user guide:__ More information on the `DatetimeIndex` and the slicing by using strings is provided in :ref:`timeseries.datetimeindex`."
   ]
  },
  {
   "cell_type": "markdown",
   "metadata": {},
   "source": [
    "### Resample a time series to another frequency"
   ]
  },
  {
   "cell_type": "markdown",
   "metadata": {},
   "source": [
    "> Aggregate the current hourly time series values to the monthly maximum value in each of the stations."
   ]
  },
  {
   "cell_type": "code",
   "execution_count": 153,
   "metadata": {},
   "outputs": [
    {
     "data": {
      "text/html": [
       "<div>\n",
       "<style scoped>\n",
       "    .dataframe tbody tr th:only-of-type {\n",
       "        vertical-align: middle;\n",
       "    }\n",
       "\n",
       "    .dataframe tbody tr th {\n",
       "        vertical-align: top;\n",
       "    }\n",
       "\n",
       "    .dataframe thead th {\n",
       "        text-align: right;\n",
       "    }\n",
       "</style>\n",
       "<table border=\"1\" class=\"dataframe\">\n",
       "  <thead>\n",
       "    <tr style=\"text-align: right;\">\n",
       "      <th>location</th>\n",
       "      <th>BETR801</th>\n",
       "      <th>FR04014</th>\n",
       "      <th>London Westminster</th>\n",
       "    </tr>\n",
       "    <tr>\n",
       "      <th>datetime</th>\n",
       "      <th></th>\n",
       "      <th></th>\n",
       "      <th></th>\n",
       "    </tr>\n",
       "  </thead>\n",
       "  <tbody>\n",
       "    <tr>\n",
       "      <td>2019-05-31 00:00:00+00:00</td>\n",
       "      <td>74.5</td>\n",
       "      <td>97.0</td>\n",
       "      <td>97.0</td>\n",
       "    </tr>\n",
       "    <tr>\n",
       "      <td>2019-06-30 00:00:00+00:00</td>\n",
       "      <td>52.5</td>\n",
       "      <td>84.7</td>\n",
       "      <td>52.0</td>\n",
       "    </tr>\n",
       "  </tbody>\n",
       "</table>\n",
       "</div>"
      ],
      "text/plain": [
       "location                   BETR801  FR04014  London Westminster\n",
       "datetime                                                       \n",
       "2019-05-31 00:00:00+00:00     74.5     97.0                97.0\n",
       "2019-06-30 00:00:00+00:00     52.5     84.7                52.0"
      ]
     },
     "execution_count": 153,
     "metadata": {},
     "output_type": "execute_result"
    }
   ],
   "source": [
    "monthly_max = no_2.resample(\"M\").max()\n",
    "monthly_max"
   ]
  },
  {
   "cell_type": "markdown",
   "metadata": {},
   "source": [
    "A very powerful functionality on time series data with a datetime index, is the ability to `resample` time series to another frequency (e.g., converting secondly data into 5-minutely data). The method is similar to a groupby operation:\n",
    "\n",
    " - it provides a time-based grouping, by using a string (e.g. `M`, `5H`,...) that defines the target frequency \n",
    " - it requires an aggregation function such as `mean`, `max`,..."
   ]
  },
  {
   "cell_type": "markdown",
   "metadata": {},
   "source": [
    "__To user guide:__ An overview of the aliases used to define time series frequencies (alos called _offset aliases_) is given in :ref:`timeseries.offset_aliases`."
   ]
  },
  {
   "cell_type": "markdown",
   "metadata": {},
   "source": [
    "When defined, the frequency of the time series is provided by the `freq` attribute:"
   ]
  },
  {
   "cell_type": "code",
   "execution_count": 155,
   "metadata": {},
   "outputs": [
    {
     "data": {
      "text/plain": [
       "<MonthEnd>"
      ]
     },
     "execution_count": 155,
     "metadata": {},
     "output_type": "execute_result"
    }
   ],
   "source": [
    "monthly_max.index.freq"
   ]
  },
  {
   "cell_type": "markdown",
   "metadata": {},
   "source": [
    "> Make a plot of the daily median $NO_2$ value in each of the stations."
   ]
  },
  {
   "cell_type": "code",
   "execution_count": 152,
   "metadata": {},
   "outputs": [
    {
     "data": {
      "text/plain": [
       "<matplotlib.axes._subplots.AxesSubplot at 0x7fd89c305e48>"
      ]
     },
     "execution_count": 152,
     "metadata": {},
     "output_type": "execute_result"
    },
    {
     "data": {
      "image/png": "[encoded data removed]",
      "text/plain": [
       "<Figure size 720x360 with 1 Axes>"
      ]
     },
     "metadata": {
      "needs_background": "light"
     },
     "output_type": "display_data"
    }
   ],
   "source": [
    "no_2.resample(\"D\").mean().plot(style=\"-o\", figsize=(10, 5))"
   ]
  },
  {
   "cell_type": "markdown",
   "metadata": {},
   "source": [
    "__To user guide:__ More details on the power of time series `resampling` is provided in :ref:`timeseries.resampling`."
   ]
  },
  {
   "cell_type": "markdown",
   "metadata": {},
   "source": [
    "## REMEMBER\n",
    "\n",
    "- Valid date strings can be converted to datetime objects using `to_datetime` function or as part of read functions.\n",
    "- Datetime objects in Pandas supports calculations, logical operations and convenient date-related properties using the `dt` accessor.\n",
    "- A `DatetimeIndex` contains these date-related properties and supports convenient slicing.\n",
    "- `Resample` is a powerfull functionality to change the frequency of a time series."
   ]
  },
  {
   "cell_type": "markdown",
   "metadata": {},
   "source": [
    "__To user guide:__ More information on time series and date functionalities is given in :ref:`timeseries`."
   ]
  },
  {
   "cell_type": "code",
   "execution_count": null,
   "metadata": {},
   "outputs": [],
   "source": []
  }
 ],
 "metadata": {
  "kernelspec": {
   "display_name": "Python 3",
   "language": "python",
   "name": "python3"
  },
  "language_info": {
   "codemirror_mode": {
    "name": "ipython",
    "version": 3
   },
   "file_extension": ".py",
   "mimetype": "text/x-python",
   "name": "python",
   "nbconvert_exporter": "python",
   "pygments_lexer": "ipython3",
   "version": "3.7.3"
  }
 },
 "nbformat": 4,
 "nbformat_minor": 2
}
